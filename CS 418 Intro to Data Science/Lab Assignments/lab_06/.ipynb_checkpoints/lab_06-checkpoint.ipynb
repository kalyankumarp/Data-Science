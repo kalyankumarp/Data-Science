{
 "cells": [
  {
   "cell_type": "markdown",
   "metadata": {},
   "source": [
    "# Lab Assignment 06\n",
    "The objective of this lab assignment is to build and evaluate classification models to predict customer churn given information from customers of a telephone company (`data_lab_06.csv`).\n",
    "\n",
    "#### Instructions:\n",
    "Complete each task and question by filling in the blanks (`...`) with one or more lines of code or text. Each task and question is worth **0.5 points** (out of **10 points**).\n",
    "\n",
    "#### Submission:\n",
    "This assignment is due **Monday, November 18, at 11:59PM (Central Time)**.\n",
    "\n",
    "This assignment must be submitted on Gradescope as a **PDF file** containing the completed code for each task and the corresponding output. Late submissions will be accepted within **0-12**  hours after the deadline with a **0.5-point (5%) penalty** and within **12-24** hours after the deadline with a **2-point (20%) penalty**. No late submissions will be accepted more than 24 hours after the deadline.\n",
    "\n",
    "**This assignment is individual**. Offering or receiving any kind of unauthorized or unacknowledged assistance is a violation of the University’s academic integrity policies, will result in a grade of zero for the assignment, and will be subject to disciplinary action."
   ]
  },
  {
   "cell_type": "markdown",
   "metadata": {},
   "source": [
    "### Part 1: Decision Trees"
   ]
  },
  {
   "cell_type": "code",
   "execution_count": 1,
   "metadata": {},
   "outputs": [
    {
     "name": "stderr",
     "output_type": "stream",
     "text": [
      "C:\\Users\\kalya\\Anaconda3\\lib\\site-packages\\sklearn\\externals\\six.py:31: DeprecationWarning: The module is deprecated in version 0.21 and will be removed in version 0.23 since we've dropped support for Python 2.7. Please rely on the official version of six (https://pypi.org/project/six/).\n",
      "  \"(https://pypi.org/project/six/).\", DeprecationWarning)\n"
     ]
    }
   ],
   "source": [
    "# Load libraries\n",
    "import pandas as pd\n",
    "import matplotlib.pyplot as plt\n",
    "import seaborn as sns\n",
    "from sklearn.model_selection import train_test_split\n",
    "from sklearn.preprocessing import StandardScaler  \n",
    "from sklearn.tree import DecisionTreeClassifier\n",
    "from sklearn.neighbors import KNeighborsClassifier \n",
    "from sklearn.naive_bayes import GaussianNB\n",
    "from sklearn.svm import SVC\n",
    "from sklearn import metrics\n",
    "from sklearn import tree\n",
    "from sklearn.externals.six import StringIO\n",
    "from sklearn import metrics\n",
    "import pydot"
   ]
  },
  {
   "cell_type": "code",
   "execution_count": 2,
   "metadata": {},
   "outputs": [
    {
     "data": {
      "text/html": [
       "<div>\n",
       "<style scoped>\n",
       "    .dataframe tbody tr th:only-of-type {\n",
       "        vertical-align: middle;\n",
       "    }\n",
       "\n",
       "    .dataframe tbody tr th {\n",
       "        vertical-align: top;\n",
       "    }\n",
       "\n",
       "    .dataframe thead th {\n",
       "        text-align: right;\n",
       "    }\n",
       "</style>\n",
       "<table border=\"1\" class=\"dataframe\">\n",
       "  <thead>\n",
       "    <tr style=\"text-align: right;\">\n",
       "      <th></th>\n",
       "      <th>Account length</th>\n",
       "      <th>International plan</th>\n",
       "      <th>Voice mail plan</th>\n",
       "      <th>Number voice mail messages</th>\n",
       "      <th>Total day minutes</th>\n",
       "      <th>Total day calls</th>\n",
       "      <th>Total day charge</th>\n",
       "      <th>Total eve minutes</th>\n",
       "      <th>Total eve calls</th>\n",
       "      <th>Total eve charge</th>\n",
       "      <th>Total night minutes</th>\n",
       "      <th>Total night calls</th>\n",
       "      <th>Total night charge</th>\n",
       "      <th>Total intl minutes</th>\n",
       "      <th>Total intl calls</th>\n",
       "      <th>Total intl charge</th>\n",
       "      <th>Customer service calls</th>\n",
       "      <th>Churn</th>\n",
       "    </tr>\n",
       "  </thead>\n",
       "  <tbody>\n",
       "    <tr>\n",
       "      <th>0</th>\n",
       "      <td>128</td>\n",
       "      <td>0</td>\n",
       "      <td>1</td>\n",
       "      <td>25</td>\n",
       "      <td>265.1</td>\n",
       "      <td>110</td>\n",
       "      <td>45.07</td>\n",
       "      <td>197.4</td>\n",
       "      <td>99</td>\n",
       "      <td>16.78</td>\n",
       "      <td>244.7</td>\n",
       "      <td>91</td>\n",
       "      <td>11.01</td>\n",
       "      <td>10.0</td>\n",
       "      <td>3</td>\n",
       "      <td>2.70</td>\n",
       "      <td>1</td>\n",
       "      <td>0</td>\n",
       "    </tr>\n",
       "    <tr>\n",
       "      <th>1</th>\n",
       "      <td>107</td>\n",
       "      <td>0</td>\n",
       "      <td>1</td>\n",
       "      <td>26</td>\n",
       "      <td>161.6</td>\n",
       "      <td>123</td>\n",
       "      <td>27.47</td>\n",
       "      <td>195.5</td>\n",
       "      <td>103</td>\n",
       "      <td>16.62</td>\n",
       "      <td>254.4</td>\n",
       "      <td>103</td>\n",
       "      <td>11.45</td>\n",
       "      <td>13.7</td>\n",
       "      <td>3</td>\n",
       "      <td>3.70</td>\n",
       "      <td>1</td>\n",
       "      <td>0</td>\n",
       "    </tr>\n",
       "    <tr>\n",
       "      <th>2</th>\n",
       "      <td>137</td>\n",
       "      <td>0</td>\n",
       "      <td>0</td>\n",
       "      <td>0</td>\n",
       "      <td>243.4</td>\n",
       "      <td>114</td>\n",
       "      <td>41.38</td>\n",
       "      <td>121.2</td>\n",
       "      <td>110</td>\n",
       "      <td>10.30</td>\n",
       "      <td>162.6</td>\n",
       "      <td>104</td>\n",
       "      <td>7.32</td>\n",
       "      <td>12.2</td>\n",
       "      <td>5</td>\n",
       "      <td>3.29</td>\n",
       "      <td>0</td>\n",
       "      <td>0</td>\n",
       "    </tr>\n",
       "    <tr>\n",
       "      <th>3</th>\n",
       "      <td>84</td>\n",
       "      <td>1</td>\n",
       "      <td>0</td>\n",
       "      <td>0</td>\n",
       "      <td>299.4</td>\n",
       "      <td>71</td>\n",
       "      <td>50.90</td>\n",
       "      <td>61.9</td>\n",
       "      <td>88</td>\n",
       "      <td>5.26</td>\n",
       "      <td>196.9</td>\n",
       "      <td>89</td>\n",
       "      <td>8.86</td>\n",
       "      <td>6.6</td>\n",
       "      <td>7</td>\n",
       "      <td>1.78</td>\n",
       "      <td>2</td>\n",
       "      <td>0</td>\n",
       "    </tr>\n",
       "    <tr>\n",
       "      <th>4</th>\n",
       "      <td>75</td>\n",
       "      <td>1</td>\n",
       "      <td>0</td>\n",
       "      <td>0</td>\n",
       "      <td>166.7</td>\n",
       "      <td>113</td>\n",
       "      <td>28.34</td>\n",
       "      <td>148.3</td>\n",
       "      <td>122</td>\n",
       "      <td>12.61</td>\n",
       "      <td>186.9</td>\n",
       "      <td>121</td>\n",
       "      <td>8.41</td>\n",
       "      <td>10.1</td>\n",
       "      <td>3</td>\n",
       "      <td>2.73</td>\n",
       "      <td>3</td>\n",
       "      <td>0</td>\n",
       "    </tr>\n",
       "  </tbody>\n",
       "</table>\n",
       "</div>"
      ],
      "text/plain": [
       "   Account length  International plan  Voice mail plan  \\\n",
       "0             128                   0                1   \n",
       "1             107                   0                1   \n",
       "2             137                   0                0   \n",
       "3              84                   1                0   \n",
       "4              75                   1                0   \n",
       "\n",
       "   Number voice mail messages  Total day minutes  Total day calls  \\\n",
       "0                          25              265.1              110   \n",
       "1                          26              161.6              123   \n",
       "2                           0              243.4              114   \n",
       "3                           0              299.4               71   \n",
       "4                           0              166.7              113   \n",
       "\n",
       "   Total day charge  Total eve minutes  Total eve calls  Total eve charge  \\\n",
       "0             45.07              197.4               99             16.78   \n",
       "1             27.47              195.5              103             16.62   \n",
       "2             41.38              121.2              110             10.30   \n",
       "3             50.90               61.9               88              5.26   \n",
       "4             28.34              148.3              122             12.61   \n",
       "\n",
       "   Total night minutes  Total night calls  Total night charge  \\\n",
       "0                244.7                 91               11.01   \n",
       "1                254.4                103               11.45   \n",
       "2                162.6                104                7.32   \n",
       "3                196.9                 89                8.86   \n",
       "4                186.9                121                8.41   \n",
       "\n",
       "   Total intl minutes  Total intl calls  Total intl charge  \\\n",
       "0                10.0                 3               2.70   \n",
       "1                13.7                 3               3.70   \n",
       "2                12.2                 5               3.29   \n",
       "3                 6.6                 7               1.78   \n",
       "4                10.1                 3               2.73   \n",
       "\n",
       "   Customer service calls  Churn  \n",
       "0                       1      0  \n",
       "1                       1      0  \n",
       "2                       0      0  \n",
       "3                       2      0  \n",
       "4                       3      0  "
      ]
     },
     "execution_count": 2,
     "metadata": {},
     "output_type": "execute_result"
    }
   ],
   "source": [
    "# Load dataset and display the first five rows\n",
    "data = pd.read_csv('data_lab_06.csv')\n",
    "data.head()"
   ]
  },
  {
   "cell_type": "code",
   "execution_count": 3,
   "metadata": {},
   "outputs": [
    {
     "name": "stdout",
     "output_type": "stream",
     "text": [
      "<class 'pandas.core.frame.DataFrame'>\n",
      "RangeIndex: 3333 entries, 0 to 3332\n",
      "Data columns (total 18 columns):\n",
      "Account length                3333 non-null int64\n",
      "International plan            3333 non-null int64\n",
      "Voice mail plan               3333 non-null int64\n",
      "Number voice mail messages    3333 non-null int64\n",
      "Total day minutes             3333 non-null float64\n",
      "Total day calls               3333 non-null int64\n",
      "Total day charge              3333 non-null float64\n",
      "Total eve minutes             3333 non-null float64\n",
      "Total eve calls               3333 non-null int64\n",
      "Total eve charge              3333 non-null float64\n",
      "Total night minutes           3333 non-null float64\n",
      "Total night calls             3333 non-null int64\n",
      "Total night charge            3333 non-null float64\n",
      "Total intl minutes            3333 non-null float64\n",
      "Total intl calls              3333 non-null int64\n",
      "Total intl charge             3333 non-null float64\n",
      "Customer service calls        3333 non-null int64\n",
      "Churn                         3333 non-null int64\n",
      "dtypes: float64(8), int64(10)\n",
      "memory usage: 468.8 KB\n"
     ]
    }
   ],
   "source": [
    "data.info()"
   ]
  },
  {
   "cell_type": "markdown",
   "metadata": {},
   "source": [
    "**Task 01 (of 14): Partition the dataset into training set and test set.**\n",
    "_Hint:_ Use 75% of the data for training and 25% for testing and set parameter random_state to 0."
   ]
  },
  {
   "cell_type": "code",
   "execution_count": 5,
   "metadata": {},
   "outputs": [],
   "source": [
    "x_train, x_test, y_train, y_test = train_test_split(data.iloc[:,:17],data.iloc[:,17:],test_size = 0.25, random_state=0)"
   ]
  },
  {
   "cell_type": "code",
   "execution_count": 6,
   "metadata": {},
   "outputs": [
    {
     "name": "stdout",
     "output_type": "stream",
     "text": [
      "(2499, 17)\n",
      "(834, 17)\n"
     ]
    }
   ],
   "source": [
    "# Show the dimensionality of the training set and the test set\n",
    "# The training set should have 2499 observations and the test set should have 834 observations\n",
    "print(x_train.shape)\n",
    "print(x_test.shape)"
   ]
  },
  {
   "cell_type": "code",
   "execution_count": 7,
   "metadata": {},
   "outputs": [
    {
     "name": "stdout",
     "output_type": "stream",
     "text": [
      "<class 'pandas.core.frame.DataFrame'>\n",
      "Int64Index: 2499 entries, 427 to 2732\n",
      "Data columns (total 17 columns):\n",
      "Account length                2499 non-null int64\n",
      "International plan            2499 non-null int64\n",
      "Voice mail plan               2499 non-null int64\n",
      "Number voice mail messages    2499 non-null int64\n",
      "Total day minutes             2499 non-null float64\n",
      "Total day calls               2499 non-null int64\n",
      "Total day charge              2499 non-null float64\n",
      "Total eve minutes             2499 non-null float64\n",
      "Total eve calls               2499 non-null int64\n",
      "Total eve charge              2499 non-null float64\n",
      "Total night minutes           2499 non-null float64\n",
      "Total night calls             2499 non-null int64\n",
      "Total night charge            2499 non-null float64\n",
      "Total intl minutes            2499 non-null float64\n",
      "Total intl calls              2499 non-null int64\n",
      "Total intl charge             2499 non-null float64\n",
      "Customer service calls        2499 non-null int64\n",
      "dtypes: float64(8), int64(9)\n",
      "memory usage: 351.4 KB\n"
     ]
    }
   ],
   "source": [
    "x_train.info()"
   ]
  },
  {
   "cell_type": "code",
   "execution_count": 8,
   "metadata": {},
   "outputs": [
    {
     "data": {
      "text/plain": [
       "Index(['Account length', 'International plan', 'Voice mail plan',\n",
       "       'Number voice mail messages', 'Total day minutes', 'Total day calls',\n",
       "       'Total day charge', 'Total eve minutes', 'Total eve calls',\n",
       "       'Total eve charge', 'Total night minutes', 'Total night calls',\n",
       "       'Total night charge', 'Total intl minutes', 'Total intl calls',\n",
       "       'Total intl charge', 'Customer service calls'],\n",
       "      dtype='object')"
      ]
     },
     "execution_count": 8,
     "metadata": {},
     "output_type": "execute_result"
    }
   ],
   "source": [
    "columns = x_train.columns\n",
    "columns"
   ]
  },
  {
   "cell_type": "markdown",
   "metadata": {},
   "source": [
    "**Task 02 (of 14): Standardize the training set and test set.**\n",
    "_Hint:_ Compute the mean and standard deviation using only the training set and then apply this transformation on the training set and test set."
   ]
  },
  {
   "cell_type": "code",
   "execution_count": 9,
   "metadata": {},
   "outputs": [],
   "source": [
    "scaler = StandardScaler()\n",
    "scaler.fit(x_train)\n",
    "x_train_scaled = scaler.transform(x_train)\n",
    "x_test_scaled = scaler.transform(x_test)"
   ]
  },
  {
   "cell_type": "markdown",
   "metadata": {},
   "source": [
    "**Task 03 (of 14): Build a decision tree classifier to classify customers as churnend/non-churned.**\n",
    "_Hint:_ Use entropy as the split criterion."
   ]
  },
  {
   "cell_type": "code",
   "execution_count": 10,
   "metadata": {},
   "outputs": [
    {
     "data": {
      "text/plain": [
       "DecisionTreeClassifier(class_weight=None, criterion='entropy', max_depth=None,\n",
       "                       max_features=None, max_leaf_nodes=None,\n",
       "                       min_impurity_decrease=0.0, min_impurity_split=None,\n",
       "                       min_samples_leaf=1, min_samples_split=2,\n",
       "                       min_weight_fraction_leaf=0.0, presort=False,\n",
       "                       random_state=None, splitter='best')"
      ]
     },
     "execution_count": 10,
     "metadata": {},
     "output_type": "execute_result"
    }
   ],
   "source": [
    "classifier = DecisionTreeClassifier(criterion = \"entropy\")\n",
    "x = x_train_scaled\n",
    "y = y_train\n",
    "classifier.fit(x,y)"
   ]
  },
  {
   "cell_type": "code",
   "execution_count": 11,
   "metadata": {},
   "outputs": [
    {
     "name": "stdout",
     "output_type": "stream",
     "text": [
      "[(  1, 240,  4,  1.37790751e+00, 0.60293799, 2499, 2.499e+03)\n",
      " (  2, 201, 16,  1.47932547e+00, 0.4991475 , 2278, 2.278e+03)\n",
      " (  3, 188,  1,  1.39084876e+00, 0.37934172, 2105, 2.105e+03)\n",
      " (  4, 137,  6,  7.91448623e-01, 0.26832186, 1921, 1.921e+03)\n",
      " (  5,   6, 12, -1.40246254e+00, 0.1779243 , 1681, 1.681e+03)\n",
      " ( -1,  -1, -2, -2.00000000e+00, 0.        ,  124, 1.240e+02)\n",
      " (  7,   8, 10, -1.40125614e+00, 0.18885385, 1557, 1.557e+03)\n",
      " ( -1,  -1, -2, -2.00000000e+00, 0.        ,    1, 1.000e+00)\n",
      " (  9,  26,  7, -6.43222064e-01, 0.18567934, 1556, 1.556e+03)\n",
      " ( 10,  25, 13,  3.73752005e-02, 0.09482908,  411, 4.110e+02)\n",
      " ( 11,  22, 15, -2.16688029e-03, 0.16417121,  207, 2.070e+02)\n",
      " ( 12,  17,  3,  1.93759680e+00, 0.11102003,  203, 2.030e+02)\n",
      " ( 13,  16,  0, -1.88109082e+00, 0.04741446,  190, 1.900e+02)\n",
      " ( 14,  15,  5, -1.34136140e+00, 0.72192809,    5, 5.000e+00)\n",
      " ( -1,  -1, -2, -2.00000000e+00, 0.        ,    1, 1.000e+00)\n",
      " ( -1,  -1, -2, -2.00000000e+00, 0.        ,    4, 4.000e+00)\n",
      " ( -1,  -1, -2, -2.00000000e+00, 0.        ,  185, 1.850e+02)\n",
      " ( 18,  19,  0,  9.24853444e-01, 0.61938219,   13, 1.300e+01)\n",
      " ( -1,  -1, -2, -2.00000000e+00, 0.        ,    9, 9.000e+00)\n",
      " ( 20,  21, 16, -4.31019366e-02, 1.        ,    4, 4.000e+00)\n",
      " ( -1,  -1, -2, -2.00000000e+00, 0.        ,    2, 2.000e+00)\n",
      " ( -1,  -1, -2, -2.00000000e+00, 0.        ,    2, 2.000e+00)\n",
      " ( 23,  24, 12,  7.08070576e-01, 1.        ,    4, 4.000e+00)\n",
      " ( -1,  -1, -2, -2.00000000e+00, 0.        ,    2, 2.000e+00)\n",
      " ( -1,  -1, -2, -2.00000000e+00, 0.        ,    2, 2.000e+00)\n",
      " ( -1,  -1, -2, -2.00000000e+00, 0.        ,  204, 2.040e+02)\n",
      " ( 27,  92, 11,  7.33808935e-01, 0.21436617, 1145, 1.145e+03)\n",
      " ( 28,  29, 13, -7.10542113e-01, 0.17017729,  870, 8.700e+02)\n",
      " ( -1,  -1, -2, -2.00000000e+00, 0.        ,  197, 1.970e+02)\n",
      " ( 30,  45,  0, -1.02322608e-01, 0.20770499,  673, 6.730e+02)\n",
      " ( 31,  32, 10,  6.39307916e-01, 0.11670201,  318, 3.180e+02)\n",
      " ( -1,  -1, -2, -2.00000000e+00, 0.        ,  214, 2.140e+02)\n",
      " ( 33,  34, 12,  6.53279960e-01, 0.27817101,  104, 1.040e+02)\n",
      " ( -1,  -1, -2, -2.00000000e+00, 0.        ,    1, 1.000e+00)\n",
      " ( 35,  40,  8,  8.06315780e-01, 0.23692475,  103, 1.030e+02)\n",
      " ( 36,  37,  5,  2.11814457e+00, 0.09227725,   85, 8.500e+01)\n",
      " ( -1,  -1, -2, -2.00000000e+00, 0.        ,   83, 8.300e+01)\n",
      " ( 38,  39,  8, -7.11721629e-01, 1.        ,    2, 2.000e+00)\n",
      " ( -1,  -1, -2, -2.00000000e+00, 0.        ,    1, 1.000e+00)\n",
      " ( -1,  -1, -2, -2.00000000e+00, 0.        ,    1, 1.000e+00)\n",
      " ( 41,  44,  5, -5.44928372e-01, 0.65002242,   18, 1.800e+01)\n",
      " ( 42,  43,  6, -9.98059690e-01, 0.97095059,    5, 5.000e+00)\n",
      " ( -1,  -1, -2, -2.00000000e+00, 0.        ,    2, 2.000e+00)\n",
      " ( -1,  -1, -2, -2.00000000e+00, 0.        ,    3, 3.000e+00)\n",
      " ( -1,  -1, -2, -2.00000000e+00, 0.        ,   13, 1.300e+01)\n",
      " ( 46,  53,  0, -2.11031316e-03, 0.27735376,  355, 3.550e+02)\n",
      " ( 47,  52,  9,  1.43753242e+00, 0.73828487,   24, 2.400e+01)\n",
      " ( 48,  49,  8,  1.59283437e-01, 0.5746357 ,   22, 2.200e+01)\n",
      " ( -1,  -1, -2, -2.00000000e+00, 0.        ,   15, 1.500e+01)\n",
      " ( 50,  51, 11, -4.60047260e-01, 0.98522814,    7, 7.000e+00)\n",
      " ( -1,  -1, -2, -2.00000000e+00, 0.        ,    4, 4.000e+00)\n",
      " ( -1,  -1, -2, -2.00000000e+00, 0.        ,    3, 3.000e+00)\n",
      " ( -1,  -1, -2, -2.00000000e+00, 0.        ,    2, 2.000e+00)\n",
      " ( 54,  75,  8, -6.37064070e-01, 0.22484398,  331, 3.310e+02)\n",
      " ( 55,  64,  0,  1.98314279e-01, 0.40707681,   86, 8.600e+01)\n",
      " ( 56,  59, 11, -5.10849640e-01, 0.83664074,   15, 1.500e+01)\n",
      " ( 57,  58,  5, -5.44928387e-01, 0.81127812,    4, 4.000e+00)\n",
      " ( -1,  -1, -2, -2.00000000e+00, 0.        ,    1, 1.000e+00)\n",
      " ( -1,  -1, -2, -2.00000000e+00, 0.        ,    3, 3.000e+00)\n",
      " ( 60,  63,  9, -5.43136686e-01, 0.43949699,   11, 1.100e+01)\n",
      " ( 61,  62, 15,  4.66124743e-01, 1.        ,    2, 2.000e+00)\n",
      " ( -1,  -1, -2, -2.00000000e+00, 0.        ,    1, 1.000e+00)\n",
      " ( -1,  -1, -2, -2.00000000e+00, 0.        ,    1, 1.000e+00)\n",
      " ( -1,  -1, -2, -2.00000000e+00, 0.        ,    9, 9.000e+00)\n",
      " ( 65,  70,  5,  1.02304912e+00, 0.25253077,   71, 7.100e+01)\n",
      " ( 66,  67,  6,  6.59875095e-01, 0.12741851,   57, 5.700e+01)\n",
      " ( -1,  -1, -2, -2.00000000e+00, 0.        ,   54, 5.400e+01)\n",
      " ( 68,  69,  6,  7.01025665e-01, 0.91829583,    3, 3.000e+00)\n",
      " ( -1,  -1, -2, -2.00000000e+00, 0.        ,    1, 1.000e+00)\n",
      " ( -1,  -1, -2, -2.00000000e+00, 0.        ,    2, 2.000e+00)\n",
      " ( 71,  74,  9,  2.71891959e-01, 0.59167278,   14, 1.400e+01)\n",
      " ( 72,  73,  9, -8.67666295e-02, 0.97095059,    5, 5.000e+00)\n",
      " ( -1,  -1, -2, -2.00000000e+00, 0.        ,    3, 3.000e+00)\n",
      " ( -1,  -1, -2, -2.00000000e+00, 0.        ,    2, 2.000e+00)\n",
      " ( -1,  -1, -2, -2.00000000e+00, 0.        ,    9, 9.000e+00)\n",
      " ( 76,  91,  0,  3.01678514e+00, 0.14372617,  245, 2.450e+02)\n",
      " ( 77,  78,  7, -6.26610994e-01, 0.12068101,  244, 2.440e+02)\n",
      " ( -1,  -1, -2, -2.00000000e+00, 0.        ,    1, 1.000e+00)\n",
      " ( 79,  90, 12, -6.55724183e-02, 0.0959704 ,  243, 2.430e+02)\n",
      " ( 80,  89, 12, -8.31054039e-02, 0.19143325,  102, 1.020e+02)\n",
      " ( 81,  82,  0,  6.99375778e-01, 0.14032727,  101, 1.010e+02)\n",
      " ( -1,  -1, -2, -2.00000000e+00, 0.        ,   57, 5.700e+01)\n",
      " ( 83,  88,  0,  7.49481887e-01, 0.26676499,   44, 4.400e+01)\n",
      " ( 84,  85, 15, -2.52801836e-01, 0.97095059,    5, 5.000e+00)\n",
      " ( -1,  -1, -2, -2.00000000e+00, 0.        ,    2, 2.000e+00)\n",
      " ( 86,  87, 12, -3.72399658e-01, 0.91829583,    3, 3.000e+00)\n",
      " ( -1,  -1, -2, -2.00000000e+00, 0.        ,    2, 2.000e+00)\n",
      " ( -1,  -1, -2, -2.00000000e+00, 0.        ,    1, 1.000e+00)\n",
      " ( -1,  -1, -2, -2.00000000e+00, 0.        ,   39, 3.900e+01)\n",
      " ( -1,  -1, -2, -2.00000000e+00, 0.        ,    1, 1.000e+00)\n",
      " ( -1,  -1, -2, -2.00000000e+00, 0.        ,  141, 1.410e+02)\n",
      " ( -1,  -1, -2, -2.00000000e+00, 0.        ,    1, 1.000e+00)\n",
      " ( 93, 118, 12,  7.38753289e-01, 0.33462053,  275, 2.750e+02)\n",
      " ( 94, 111,  0,  1.28812295e+00, 0.2085566 ,  213, 2.130e+02)\n",
      " ( 95, 100,  3,  1.42354321e+00, 0.14431028,  195, 1.950e+02)\n",
      " ( 96,  97,  8,  1.25426126e+00, 0.05390791,  163, 1.630e+02)\n",
      " ( -1,  -1, -2, -2.00000000e+00, 0.        ,  146, 1.460e+02)\n",
      " ( 98,  99,  4, -1.03005683e+00, 0.32275696,   17, 1.700e+01)\n",
      " ( -1,  -1, -2, -2.00000000e+00, 0.        ,    1, 1.000e+00)\n",
      " ( -1,  -1, -2, -2.00000000e+00, 0.        ,   16, 1.600e+01)\n",
      " (101, 110, 12, -4.46914852e-01, 0.44886449,   32, 3.200e+01)\n",
      " (102, 103, 13, -5.16625764e-02, 0.72192809,   15, 1.500e+01)\n",
      " ( -1,  -1, -2, -2.00000000e+00, 0.        ,    7, 7.000e+00)\n",
      " (104, 105, 10, -9.28839415e-01, 0.954434  ,    8, 8.000e+00)\n",
      " ( -1,  -1, -2, -2.00000000e+00, 0.        ,    2, 2.000e+00)\n",
      " (106, 109, 15,  1.71270394e+00, 1.        ,    6, 6.000e+00)\n",
      " (107, 108,  3,  2.45165038e+00, 0.81127812,    4, 4.000e+00)\n",
      " ( -1,  -1, -2, -2.00000000e+00, 0.        ,    3, 3.000e+00)\n",
      " ( -1,  -1, -2, -2.00000000e+00, 0.        ,    1, 1.000e+00)\n",
      " ( -1,  -1, -2, -2.00000000e+00, 0.        ,    2, 2.000e+00)\n",
      " ( -1,  -1, -2, -2.00000000e+00, 0.        ,   17, 1.700e+01)\n",
      " (112, 117, 12, -1.95483305e-02, 0.65002242,   18, 1.800e+01)\n",
      " (113, 116, 11,  1.26723403e+00, 0.98522814,    7, 7.000e+00)\n",
      " (114, 115,  0,  1.42591488e+00, 0.72192809,    5, 5.000e+00)\n",
      " ( -1,  -1, -2, -2.00000000e+00, 0.        ,    1, 1.000e+00)\n",
      " ( -1,  -1, -2, -2.00000000e+00, 0.        ,    4, 4.000e+00)\n",
      " ( -1,  -1, -2, -2.00000000e+00, 0.        ,    2, 2.000e+00)\n",
      " ( -1,  -1, -2, -2.00000000e+00, 0.        ,   11, 1.100e+01)\n",
      " (119, 136, 11,  1.49584478e+00, 0.6373875 ,   62, 6.200e+01)\n",
      " (120, 123,  7, -4.18483824e-01, 0.81127812,   40, 4.000e+01)\n",
      " (121, 122, 12,  9.18466389e-01, 0.72192809,    5, 5.000e+00)\n",
      " ( -1,  -1, -2, -2.00000000e+00, 0.        ,    1, 1.000e+00)\n",
      " ( -1,  -1, -2, -2.00000000e+00, 0.        ,    4, 4.000e+00)\n",
      " (124, 135,  9,  1.98931485e+00, 0.66096234,   35, 3.500e+01)\n",
      " (125, 128, 12,  8.50526065e-01, 0.53283506,   33, 3.300e+01)\n",
      " (126, 127,  8,  6.07228905e-01, 0.91829583,    3, 3.000e+00)\n",
      " ( -1,  -1, -2, -2.00000000e+00, 0.        ,    2, 2.000e+00)\n",
      " ( -1,  -1, -2, -2.00000000e+00, 0.        ,    1, 1.000e+00)\n",
      " (129, 134,  5, -1.71600401e-01, 0.35335934,   30, 3.000e+01)\n",
      " (130, 131,  5, -4.95151341e-01, 0.65002242,   12, 1.200e+01)\n",
      " ( -1,  -1, -2, -2.00000000e+00, 0.        ,    8, 8.000e+00)\n",
      " (132, 133, 14,  4.20300819e-01, 1.        ,    4, 4.000e+00)\n",
      " ( -1,  -1, -2, -2.00000000e+00, 0.        ,    2, 2.000e+00)\n",
      " ( -1,  -1, -2, -2.00000000e+00, 0.        ,    2, 2.000e+00)\n",
      " ( -1,  -1, -2, -2.00000000e+00, 0.        ,   18, 1.800e+01)\n",
      " ( -1,  -1, -2, -2.00000000e+00, 0.        ,    2, 2.000e+00)\n",
      " ( -1,  -1, -2, -2.00000000e+00, 0.        ,   22, 2.200e+01)\n",
      " (138, 179,  7,  1.13709563e+00, 0.67825063,  240, 2.400e+02)\n",
      " (139, 174,  9,  8.44366252e-01, 0.41666476,  202, 2.020e+02)\n",
      " (140, 173,  5,  4.50612903e-01, 0.34918437,  183, 1.830e+02)\n",
      " (141, 142,  4,  7.96166897e-01, 0.44412605,  130, 1.300e+02)\n",
      " ( -1,  -1, -2, -2.00000000e+00, 0.        ,    1, 1.000e+00)\n",
      " (143, 144,  0, -2.01888275e+00, 0.42048596,  129, 1.290e+02)\n",
      " ( -1,  -1, -2, -2.00000000e+00, 0.        ,    1, 1.000e+00)\n",
      " (145, 172,  0,  9.74959582e-01, 0.39553781,  128, 1.280e+02)\n",
      " (146, 169,  5,  4.00835827e-01, 0.45969421,  103, 1.030e+02)\n",
      " (147, 148, 13, -1.01327056e+00, 0.40502013,   99, 9.900e+01)\n",
      " ( -1,  -1, -2, -2.00000000e+00, 0.        ,   18, 1.800e+01)\n",
      " (149, 150,  0, -1.90614390e+00, 0.46506984,   81, 8.100e+01)\n",
      " ( -1,  -1, -2, -2.00000000e+00, 0.        ,    1, 1.000e+00)\n",
      " (151, 168, 13,  5.00371635e-01, 0.42806963,   80, 8.000e+01)\n",
      " (152, 165, 15,  3.93572524e-01, 0.59167278,   49, 4.900e+01)\n",
      " (153, 154, 10, -1.39632481e+00, 0.49596907,   46, 4.600e+01)\n",
      " ( -1,  -1, -2, -2.00000000e+00, 0.        ,    1, 1.000e+00)\n",
      " (155, 156, 12, -2.38710649e-01, 0.43275016,   45, 4.500e+01)\n",
      " ( -1,  -1, -2, -2.00000000e+00, 0.        ,   17, 1.700e+01)\n",
      " (157, 158, 12, -1.99261434e-01, 0.59167278,   28, 2.800e+01)\n",
      " ( -1,  -1, -2, -2.00000000e+00, 0.        ,    1, 1.000e+00)\n",
      " (159, 160,  7, -4.13598210e-01, 0.50325833,   27, 2.700e+01)\n",
      " ( -1,  -1, -2, -2.00000000e+00, 0.        ,   15, 1.500e+01)\n",
      " (161, 164, 10,  1.08706820e+00, 0.81127812,   12, 1.200e+01)\n",
      " (162, 163, 14, -8.07439417e-01, 0.46899559,   10, 1.000e+01)\n",
      " ( -1,  -1, -2, -2.00000000e+00, 0.        ,    1, 1.000e+00)\n",
      " ( -1,  -1, -2, -2.00000000e+00, 0.        ,    9, 9.000e+00)\n",
      " ( -1,  -1, -2, -2.00000000e+00, 0.        ,    2, 2.000e+00)\n",
      " (166, 167,  4,  1.08335525e+00, 0.91829583,    3, 3.000e+00)\n",
      " ( -1,  -1, -2, -2.00000000e+00, 0.        ,    2, 2.000e+00)\n",
      " ( -1,  -1, -2, -2.00000000e+00, 0.        ,    1, 1.000e+00)\n",
      " ( -1,  -1, -2, -2.00000000e+00, 0.        ,   31, 3.100e+01)\n",
      " (170, 171, 14, -8.07439417e-01, 1.        ,    4, 4.000e+00)\n",
      " ( -1,  -1, -2, -2.00000000e+00, 0.        ,    2, 2.000e+00)\n",
      " ( -1,  -1, -2, -2.00000000e+00, 0.        ,    2, 2.000e+00)\n",
      " ( -1,  -1, -2, -2.00000000e+00, 0.        ,   25, 2.500e+01)\n",
      " ( -1,  -1, -2, -2.00000000e+00, 0.        ,   53, 5.300e+01)\n",
      " (175, 176, 10,  6.82655824e-02, 0.83147439,   19, 1.900e+01)\n",
      " ( -1,  -1, -2, -2.00000000e+00, 0.        ,   10, 1.000e+01)\n",
      " (177, 178,  3,  2.48563558e-01, 0.99107606,    9, 9.000e+00)\n",
      " ( -1,  -1, -2, -2.00000000e+00, 0.        ,    5, 5.000e+00)\n",
      " ( -1,  -1, -2, -2.00000000e+00, 0.        ,    4, 4.000e+00)\n",
      " (180, 187,  3, -1.92053802e-01, 0.89974376,   38, 3.800e+01)\n",
      " (181, 186,  7,  1.31590915e+00, 0.56650951,   30, 3.000e+01)\n",
      " (182, 183,  7,  1.19572300e+00, 0.99107606,    9, 9.000e+00)\n",
      " ( -1,  -1, -2, -2.00000000e+00, 0.        ,    4, 4.000e+00)\n",
      " (184, 185, 10,  4.86438192e-01, 0.72192809,    5, 5.000e+00)\n",
      " ( -1,  -1, -2, -2.00000000e+00, 0.        ,    4, 4.000e+00)\n",
      " ( -1,  -1, -2, -2.00000000e+00, 0.        ,    1, 1.000e+00)\n",
      " ( -1,  -1, -2, -2.00000000e+00, 0.        ,   21, 2.100e+01)\n",
      " ( -1,  -1, -2, -2.00000000e+00, 0.        ,    8, 8.000e+00)\n",
      " (189, 190, 14, -8.07439417e-01, 0.94605843,  184, 1.840e+02)\n",
      " ( -1,  -1, -2, -2.00000000e+00, 0.        ,   36, 3.600e+01)\n",
      " (191, 200, 13,  1.01679072e+00, 0.74044825,  148, 1.480e+02)\n",
      " (192, 199,  9,  2.40889943e+00, 0.24678396,  122, 1.220e+02)\n",
      " (193, 196,  6,  1.32099146e+00, 0.16866093,  120, 1.200e+02)\n",
      " (194, 195, 10, -2.31255686e+00, 0.07099895,  117, 1.170e+02)\n",
      " ( -1,  -1, -2, -2.00000000e+00, 0.        ,    1, 1.000e+00)\n",
      " ( -1,  -1, -2, -2.00000000e+00, 0.        ,  116, 1.160e+02)\n",
      " (197, 198,  9, -1.55739438e-01, 0.91829583,    3, 3.000e+00)\n",
      " ( -1,  -1, -2, -2.00000000e+00, 0.        ,    1, 1.000e+00)\n",
      " ( -1,  -1, -2, -2.00000000e+00, 0.        ,    2, 2.000e+00)\n",
      " ( -1,  -1, -2, -2.00000000e+00, 0.        ,    2, 2.000e+00)\n",
      " ( -1,  -1, -2, -2.00000000e+00, 0.        ,   26, 2.600e+01)\n",
      " (202, 213,  4, -3.67314354e-01, 0.99302328,  173, 1.730e+02)\n",
      " (203, 208,  9,  6.19055063e-01, 0.37123233,   70, 7.000e+01)\n",
      " (204, 205,  8,  2.29946733e+00, 0.12741851,   57, 5.700e+01)\n",
      " ( -1,  -1, -2, -2.00000000e+00, 0.        ,   55, 5.500e+01)\n",
      " (206, 207,  1,  1.39084876e+00, 1.        ,    2, 2.000e+00)\n",
      " ( -1,  -1, -2, -2.00000000e+00, 0.        ,    1, 1.000e+00)\n",
      " ( -1,  -1, -2, -2.00000000e+00, 0.        ,    1, 1.000e+00)\n",
      " (209, 210,  4, -8.38597924e-01, 0.89049164,   13, 1.300e+01)\n",
      " ( -1,  -1, -2, -2.00000000e+00, 0.        ,    7, 7.000e+00)\n",
      " (211, 212, 13,  2.51065865e-01, 0.91829583,    6, 6.000e+00)\n",
      " ( -1,  -1, -2, -2.00000000e+00, 0.        ,    4, 4.000e+00)\n",
      " ( -1,  -1, -2, -2.00000000e+00, 0.        ,    2, 2.000e+00)\n",
      " (214, 219,  7, -9.00205344e-01, 0.87034605,  103, 1.030e+02)\n",
      " (215, 216,  0,  8.12114596e-01, 0.35335934,   15, 1.500e+01)\n",
      " ( -1,  -1, -2, -2.00000000e+00, 0.        ,   13, 1.300e+01)\n",
      " (217, 218, 15,  2.48468079e-01, 1.        ,    2, 2.000e+00)\n",
      " ( -1,  -1, -2, -2.00000000e+00, 0.        ,    1, 1.000e+00)\n",
      " ( -1,  -1, -2, -2.00000000e+00, 0.        ,    1, 1.000e+00)\n",
      " (220, 225,  4, -1.21547356e-01, 0.68403844,   88, 8.800e+01)\n",
      " (221, 224,  9,  2.02919155e-01, 0.99277445,   20, 2.000e+01)\n",
      " (222, 223,  6, -3.42357844e-01, 0.46899559,   10, 1.000e+01)\n",
      " ( -1,  -1, -2, -2.00000000e+00, 0.        ,    1, 1.000e+00)\n",
      " ( -1,  -1, -2, -2.00000000e+00, 0.        ,    9, 9.000e+00)\n",
      " ( -1,  -1, -2, -2.00000000e+00, 0.        ,   10, 1.000e+01)\n",
      " (226, 235,  1,  1.39084876e+00, 0.47825016,   68, 6.800e+01)\n",
      " (227, 228, 11,  4.03593391e-01, 0.21357982,   59, 5.900e+01)\n",
      " ( -1,  -1, -2, -2.00000000e+00, 0.        ,   42, 4.200e+01)\n",
      " (229, 234, 14, -3.98192666e-01, 0.52255937,   17, 1.700e+01)\n",
      " (230, 231,  7,  1.55087259e-01, 0.97095059,    5, 5.000e+00)\n",
      " ( -1,  -1, -2, -2.00000000e+00, 0.        ,    2, 2.000e+00)\n",
      " (232, 233,  7,  8.49821568e-01, 0.91829583,    3, 3.000e+00)\n",
      " ( -1,  -1, -2, -2.00000000e+00, 0.        ,    2, 2.000e+00)\n",
      " ( -1,  -1, -2, -2.00000000e+00, 0.        ,    1, 1.000e+00)\n",
      " ( -1,  -1, -2, -2.00000000e+00, 0.        ,   12, 1.200e+01)\n",
      " (236, 239,  9,  7.24813387e-01, 0.99107606,    9, 9.000e+00)\n",
      " (237, 238, 10,  1.44207310e-01, 0.72192809,    5, 5.000e+00)\n",
      " ( -1,  -1, -2, -2.00000000e+00, 0.        ,    1, 1.000e+00)\n",
      " ( -1,  -1, -2, -2.00000000e+00, 0.        ,    4, 4.000e+00)\n",
      " ( -1,  -1, -2, -2.00000000e+00, 0.        ,    4, 4.000e+00)\n",
      " (241, 276,  3, -1.18617579e-01, 0.99667435,  221, 2.210e+02)\n",
      " (242, 261,  9, -2.58406526e-02, 0.92594006,  170, 1.700e+02)\n",
      " (243, 260,  6,  2.41256452e+00, 0.97663491,   78, 7.800e+01)\n",
      " (244, 249, 10, -1.28985655e-01, 0.92752659,   70, 7.000e+01)\n",
      " (245, 246,  4,  1.90441960e+00, 0.36205125,   29, 2.900e+01)\n",
      " ( -1,  -1, -2, -2.00000000e+00, 0.        ,   24, 2.400e+01)\n",
      " (247, 248,  8, -5.62406461e-01, 0.97095059,    5, 5.000e+00)\n",
      " ( -1,  -1, -2, -2.00000000e+00, 0.        ,    2, 2.000e+00)\n",
      " ( -1,  -1, -2, -2.00000000e+00, 0.        ,    3, 3.000e+00)\n",
      " (250, 251,  9, -1.21562153e+00, 0.99613448,   41, 4.100e+01)\n",
      " ( -1,  -1, -2, -2.00000000e+00, 0.        ,    8, 8.000e+00)\n",
      " (252, 259,  4,  1.72308588e+00, 0.91829583,   33, 3.300e+01)\n",
      " (253, 258, 12,  1.57157004e+00, 0.99836367,   21, 2.100e+01)\n",
      " (254, 255,  9, -4.28182021e-01, 0.89603823,   16, 1.600e+01)\n",
      " ( -1,  -1, -2, -2.00000000e+00, 0.        ,    9, 9.000e+00)\n",
      " (256, 257,  8, -3.63319598e-01, 0.86312057,    7, 7.000e+00)\n",
      " ( -1,  -1, -2, -2.00000000e+00, 0.        ,    2, 2.000e+00)\n",
      " ( -1,  -1, -2, -2.00000000e+00, 0.        ,    5, 5.000e+00)\n",
      " ( -1,  -1, -2, -2.00000000e+00, 0.        ,    5, 5.000e+00)\n",
      " ( -1,  -1, -2, -2.00000000e+00, 0.        ,   12, 1.200e+01)\n",
      " ( -1,  -1, -2, -2.00000000e+00, 0.        ,    8, 8.000e+00)\n",
      " (262, 269, 12, -8.72089744e-01, 0.55862937,   92, 9.200e+01)\n",
      " (263, 268,  4,  1.78567821e+00, 0.99750255,   17, 1.700e+01)\n",
      " (264, 265, 14,  1.10540837e-02, 0.68403844,   11, 1.100e+01)\n",
      " ( -1,  -1, -2, -2.00000000e+00, 0.        ,    8, 8.000e+00)\n",
      " (266, 267,  8,  3.83256167e-01, 0.91829583,    3, 3.000e+00)\n",
      " ( -1,  -1, -2, -2.00000000e+00, 0.        ,    1, 1.000e+00)\n",
      " ( -1,  -1, -2, -2.00000000e+00, 0.        ,    2, 2.000e+00)\n",
      " ( -1,  -1, -2, -2.00000000e+00, 0.        ,    6, 6.000e+00)\n",
      " (270, 275,  6,  1.48451084e+00, 0.24229219,   75, 7.500e+01)\n",
      " (271, 274, 14, -8.07439417e-01, 0.81127812,   12, 1.200e+01)\n",
      " (272, 273, 12,  3.46452728e-01, 0.97095059,    5, 5.000e+00)\n",
      " ( -1,  -1, -2, -2.00000000e+00, 0.        ,    3, 3.000e+00)\n",
      " ( -1,  -1, -2, -2.00000000e+00, 0.        ,    2, 2.000e+00)\n",
      " ( -1,  -1, -2, -2.00000000e+00, 0.        ,    7, 7.000e+00)\n",
      " ( -1,  -1, -2, -2.00000000e+00, 0.        ,   63, 6.300e+01)\n",
      " (277, 280,  1,  1.39084876e+00, 0.52255937,   51, 5.100e+01)\n",
      " (278, 279,  4,  2.53954768e+00, 0.15935006,   43, 4.300e+01)\n",
      " ( -1,  -1, -2, -2.00000000e+00, 0.        ,   42, 4.200e+01)\n",
      " ( -1,  -1, -2, -2.00000000e+00, 0.        ,    1, 1.000e+00)\n",
      " (281, 284,  0, -3.96899208e-02, 0.954434  ,    8, 8.000e+00)\n",
      " (282, 283, 14, -8.07439417e-01, 0.81127812,    4, 4.000e+00)\n",
      " ( -1,  -1, -2, -2.00000000e+00, 0.        ,    1, 1.000e+00)\n",
      " ( -1,  -1, -2, -2.00000000e+00, 0.        ,    3, 3.000e+00)\n",
      " ( -1,  -1, -2, -2.00000000e+00, 0.        ,    4, 4.000e+00)]\n"
     ]
    },
    {
     "data": {
      "text/plain": [
       "285"
      ]
     },
     "execution_count": 11,
     "metadata": {},
     "output_type": "execute_result"
    }
   ],
   "source": [
    "# Show the structure of the decision tree classifier\n",
    "print(classifier.tree_.__getstate__()['nodes'])\n",
    "len(classifier.tree_.__getstate__()['nodes'])"
   ]
  },
  {
   "cell_type": "code",
   "execution_count": 12,
   "metadata": {},
   "outputs": [],
   "source": [
    "# Plot decision tree\n",
    "dot_data = StringIO() \n",
    "tree.export_graphviz(classifier, out_file = dot_data, feature_names = columns) \n",
    "figure = pydot.graph_from_dot_data(dot_data.getvalue()) \n",
    "figure[0].write_pdf(\"Lab6ree.pdf\")"
   ]
  },
  {
   "cell_type": "markdown",
   "metadata": {},
   "source": [
    "**Question 01 (of 06): How many nodes are in the tree? Which variable was selected to split the root node of the tree? What can you conclude from observing the structure of the tree?**\n",
    "\n",
    "**Answer:** There are 283 nodes in the tree. The  variable \"Total day minutes\" was selected to split the root node. The tree is left-skewed and has large number of nodes which might lead to overfitting. So, it's better to prune the tree."
   ]
  },
  {
   "cell_type": "markdown",
   "metadata": {},
   "source": [
    "**Task 04 (of 14): Predict the class labels for the test set using the decision tree classifier and plot the corresponding confusion matrix.**"
   ]
  },
  {
   "cell_type": "code",
   "execution_count": 38,
   "metadata": {},
   "outputs": [],
   "source": [
    "y_pred = classifier.predict(x_test_scaled)"
   ]
  },
  {
   "cell_type": "code",
   "execution_count": 39,
   "metadata": {},
   "outputs": [
    {
     "data": {
      "image/png": "[encoded data removed]",
      "text/plain": [
       "<Figure size 432x288 with 2 Axes>"
      ]
     },
     "metadata": {
      "needs_background": "light"
     },
     "output_type": "display_data"
    }
   ],
   "source": [
    "conf_matrix = metrics.confusion_matrix(y_test, y_pred)\n",
    "sns.heatmap(conf_matrix, annot = True, fmt = \".3f\", square = True, cmap = plt.cm.Blues)\n",
    "plt.ylabel('Actual')\n",
    "plt.xlabel('Predicted')\n",
    "plt.title('Confusion matrix')\n",
    "plt.tight_layout()"
   ]
  },
  {
   "cell_type": "markdown",
   "metadata": {},
   "source": [
    "**Task 05 (of 14): Compute evaluation metrics for the decision tree classifier.**"
   ]
  },
  {
   "cell_type": "code",
   "execution_count": 14,
   "metadata": {},
   "outputs": [
    {
     "name": "stdout",
     "output_type": "stream",
     "text": [
      "[0.9112709832134293, 0.08872901678657075, array([0.96806967, 0.64137931]), array([0.92767733, 0.80869565]), array([0.94744318, 0.71538462])]\n"
     ]
    }
   ],
   "source": [
    "# Compute evaluation metrics\n",
    "\n",
    "accuracy = metrics.accuracy_score(y_test, y_pred)\n",
    "error = 1 - accuracy\n",
    "precision = metrics.precision_score(y_test, y_pred, average = None)\n",
    "recall = metrics.recall_score(y_test, y_pred, average = None)\n",
    "F1_score = metrics.f1_score(y_test, y_pred, average = None)\n",
    "\n",
    "print([accuracy, error, precision, recall, F1_score])"
   ]
  },
  {
   "cell_type": "markdown",
   "metadata": {},
   "source": [
    "**Question 02 (of 06): What can you conclude about the performance of the decision tree classifier?**\n",
    "\n",
    "**Answer:** From the F1 score values, we can conclude that the performance of the decision tree classifier for class 0 is good but for class 1 it is not that good."
   ]
  },
  {
   "cell_type": "markdown",
   "metadata": {},
   "source": [
    "### Part 2: k-Nearest Neighbors"
   ]
  },
  {
   "cell_type": "markdown",
   "metadata": {},
   "source": [
    "**Task 06 (of 14): Build a k-nearest neighbors classifier to classify customers as churnend/non-churned.**\n",
    "_Hint:_ Use _k=3_ as the number of nearest neighbors."
   ]
  },
  {
   "cell_type": "code",
   "execution_count": 13,
   "metadata": {},
   "outputs": [
    {
     "name": "stderr",
     "output_type": "stream",
     "text": [
      "C:\\Users\\kalya\\Anaconda3\\lib\\site-packages\\ipykernel_launcher.py:2: DataConversionWarning: A column-vector y was passed when a 1d array was expected. Please change the shape of y to (n_samples, ), for example using ravel().\n",
      "  \n"
     ]
    },
    {
     "data": {
      "text/plain": [
       "KNeighborsClassifier(algorithm='auto', leaf_size=30, metric='minkowski',\n",
       "                     metric_params=None, n_jobs=None, n_neighbors=3, p=2,\n",
       "                     weights='uniform')"
      ]
     },
     "execution_count": 13,
     "metadata": {},
     "output_type": "execute_result"
    }
   ],
   "source": [
    "classifier = KNeighborsClassifier(n_neighbors = 3)  \n",
    "classifier.fit(x_train_scaled, y_train)"
   ]
  },
  {
   "cell_type": "markdown",
   "metadata": {},
   "source": [
    "**Task 07 (of 14): Predict the class labels for the test set using the k-nearest neighbors classifier and plot the corresponding confusion matrix.**"
   ]
  },
  {
   "cell_type": "code",
   "execution_count": 14,
   "metadata": {},
   "outputs": [],
   "source": [
    "y_pred = classifier.predict(x_test_scaled)"
   ]
  },
  {
   "cell_type": "code",
   "execution_count": 15,
   "metadata": {},
   "outputs": [
    {
     "data": {
      "image/png": "[encoded data removed]",
      "text/plain": [
       "<Figure size 432x288 with 2 Axes>"
      ]
     },
     "metadata": {
      "needs_background": "light"
     },
     "output_type": "display_data"
    }
   ],
   "source": [
    "conf_matrix = metrics.confusion_matrix(y_test, y_pred)\n",
    "sns.heatmap(conf_matrix, annot = True, fmt = \".3f\", square = True, cmap = plt.cm.Blues)\n",
    "plt.ylabel('Actual')\n",
    "plt.xlabel('Predicted')\n",
    "plt.title('Confusion matrix')\n",
    "plt.tight_layout()"
   ]
  },
  {
   "cell_type": "markdown",
   "metadata": {},
   "source": [
    "**Task 08 (of 14): Compute evaluation metrics for the k-nearest neighbors classifier.**"
   ]
  },
  {
   "cell_type": "code",
   "execution_count": 16,
   "metadata": {},
   "outputs": [
    {
     "name": "stdout",
     "output_type": "stream",
     "text": [
      "[0.9100719424460432, 0.08992805755395683, array([0.92146597, 0.78571429]), array([0.97913769, 0.47826087]), array([0.94942684, 0.59459459])]\n"
     ]
    }
   ],
   "source": [
    "# Compute evaluation metrics\n",
    "\n",
    "accuracy = metrics.accuracy_score(y_test, y_pred)\n",
    "error = 1 - accuracy\n",
    "precision = metrics.precision_score(y_test, y_pred, average = None)\n",
    "recall = metrics.recall_score(y_test, y_pred, average = None)\n",
    "F1_score = metrics.f1_score(y_test, y_pred, average = None)\n",
    "\n",
    "print([accuracy, error, precision, recall, F1_score])"
   ]
  },
  {
   "cell_type": "markdown",
   "metadata": {},
   "source": [
    "**Question 03 (of 06): What can you conclude about the performance of the k-nearest neighbors classifier?**\n",
    "\n",
    "**Answer:** From the F1 score values, we can conclude that the performance of the decision tree classifier for class 0 is good but for class 1 is average."
   ]
  },
  {
   "cell_type": "markdown",
   "metadata": {},
   "source": [
    "### Part 3: Naive Bayes"
   ]
  },
  {
   "cell_type": "markdown",
   "metadata": {},
   "source": [
    "**Task 09 (of 14): Build a Naive Bayes classifier to classify customers as churnend/non-churned.**"
   ]
  },
  {
   "cell_type": "code",
   "execution_count": 17,
   "metadata": {},
   "outputs": [
    {
     "name": "stderr",
     "output_type": "stream",
     "text": [
      "C:\\Users\\kalya\\Anaconda3\\lib\\site-packages\\sklearn\\utils\\validation.py:724: DataConversionWarning: A column-vector y was passed when a 1d array was expected. Please change the shape of y to (n_samples, ), for example using ravel().\n",
      "  y = column_or_1d(y, warn=True)\n"
     ]
    },
    {
     "data": {
      "text/plain": [
       "GaussianNB(priors=None, var_smoothing=1e-09)"
      ]
     },
     "execution_count": 17,
     "metadata": {},
     "output_type": "execute_result"
    }
   ],
   "source": [
    "classifier = GaussianNB()  \n",
    "classifier.fit(x_train_scaled, y_train)"
   ]
  },
  {
   "cell_type": "markdown",
   "metadata": {},
   "source": [
    "**Task 10 (of 14): Predict the class labels for the test set using the Naive Bayes classifier and plot the corresponding confusion matrix.**"
   ]
  },
  {
   "cell_type": "code",
   "execution_count": 18,
   "metadata": {},
   "outputs": [],
   "source": [
    "y_pred = classifier.predict(x_test_scaled)"
   ]
  },
  {
   "cell_type": "code",
   "execution_count": 19,
   "metadata": {},
   "outputs": [
    {
     "data": {
      "image/png": "[encoded data removed]",
      "text/plain": [
       "<Figure size 432x288 with 2 Axes>"
      ]
     },
     "metadata": {
      "needs_background": "light"
     },
     "output_type": "display_data"
    }
   ],
   "source": [
    "conf_matrix = metrics.confusion_matrix(y_test, y_pred)\n",
    "sns.heatmap(conf_matrix, annot = True, fmt = \".3f\", square = True, cmap = plt.cm.Blues)\n",
    "plt.ylabel('Actual')\n",
    "plt.xlabel('Predicted')\n",
    "plt.title('Confusion matrix')\n",
    "plt.tight_layout()"
   ]
  },
  {
   "cell_type": "markdown",
   "metadata": {},
   "source": [
    "**Task 11 (of 14): Compute evaluation metrics for the Naive Bayes classifier.**"
   ]
  },
  {
   "cell_type": "code",
   "execution_count": 20,
   "metadata": {},
   "outputs": [
    {
     "name": "stdout",
     "output_type": "stream",
     "text": [
      "[0.8621103117505995, 0.1378896882494005, array([0.93142857, 0.5       ]), array([0.90681502, 0.5826087 ]), array([0.91895701, 0.53815261])]\n"
     ]
    }
   ],
   "source": [
    "# Compute evaluation metrics\n",
    "\n",
    "accuracy = metrics.accuracy_score(y_test, y_pred)\n",
    "error = 1 - accuracy\n",
    "precision = metrics.precision_score(y_test, y_pred, average = None)\n",
    "recall = metrics.recall_score(y_test, y_pred, average = None)\n",
    "F1_score = metrics.f1_score(y_test, y_pred, average = None)\n",
    "\n",
    "print([accuracy, error, precision, recall, F1_score])"
   ]
  },
  {
   "cell_type": "markdown",
   "metadata": {},
   "source": [
    "**Question 04 (of 06): What can you conclude about the performance of the Naive Bayes classifier?**\n",
    "\n",
    "**Answer:** From the F1 score values, we can conclude that the performance of the decision tree classifier for class 0 is good but for class 1 is average."
   ]
  },
  {
   "cell_type": "markdown",
   "metadata": {},
   "source": [
    "### Part 4: Support Vector Machines"
   ]
  },
  {
   "cell_type": "markdown",
   "metadata": {},
   "source": [
    "**Task 12 (of 14): Build an SVM classifier to classify customers as churnend/non-churned.**\n",
    "_Hint:_ Use _rbf_ (radial basis function) as the kernel function."
   ]
  },
  {
   "cell_type": "code",
   "execution_count": 21,
   "metadata": {},
   "outputs": [
    {
     "name": "stderr",
     "output_type": "stream",
     "text": [
      "C:\\Users\\kalya\\Anaconda3\\lib\\site-packages\\sklearn\\utils\\validation.py:724: DataConversionWarning: A column-vector y was passed when a 1d array was expected. Please change the shape of y to (n_samples, ), for example using ravel().\n",
      "  y = column_or_1d(y, warn=True)\n"
     ]
    },
    {
     "data": {
      "text/plain": [
       "SVC(C=1.0, cache_size=200, class_weight=None, coef0=0.0,\n",
       "    decision_function_shape='ovr', degree=3, gamma='auto_deprecated',\n",
       "    kernel='rbf', max_iter=-1, probability=False, random_state=None,\n",
       "    shrinking=True, tol=0.001, verbose=False)"
      ]
     },
     "execution_count": 21,
     "metadata": {},
     "output_type": "execute_result"
    }
   ],
   "source": [
    "classifier = SVC(kernel = 'rbf')  \n",
    "classifier.fit(x_train_scaled, y_train)"
   ]
  },
  {
   "cell_type": "markdown",
   "metadata": {},
   "source": [
    "**Task 13 (of 14): Predict the class labels for the test set using the SVM classifier and plot the corresponding confusion matrix.**"
   ]
  },
  {
   "cell_type": "code",
   "execution_count": 22,
   "metadata": {},
   "outputs": [],
   "source": [
    "y_pred = classifier.predict(x_test_scaled)"
   ]
  },
  {
   "cell_type": "code",
   "execution_count": 23,
   "metadata": {},
   "outputs": [
    {
     "data": {
      "image/png": "[encoded data removed]",
      "text/plain": [
       "<Figure size 432x288 with 2 Axes>"
      ]
     },
     "metadata": {
      "needs_background": "light"
     },
     "output_type": "display_data"
    }
   ],
   "source": [
    "conf_matrix = metrics.confusion_matrix(y_test, y_pred)\n",
    "sns.heatmap(conf_matrix, annot = True, fmt = \".3f\", square = True, cmap = plt.cm.Blues)\n",
    "plt.ylabel('Actual')\n",
    "plt.xlabel('Predicted')\n",
    "plt.title('Confusion matrix')\n",
    "plt.tight_layout()"
   ]
  },
  {
   "cell_type": "markdown",
   "metadata": {},
   "source": [
    "**Task 14 (of 14): Compute evaluation metrics for the SVM classifier.**"
   ]
  },
  {
   "cell_type": "code",
   "execution_count": 24,
   "metadata": {},
   "outputs": [
    {
     "name": "stdout",
     "output_type": "stream",
     "text": [
      "[0.9268585131894485, 0.07314148681055155, array([0.93062827, 0.88571429]), array([0.98887344, 0.53913043]), array([0.95886716, 0.67027027])]\n"
     ]
    }
   ],
   "source": [
    "# Compute evaluation metrics\n",
    "\n",
    "accuracy = metrics.accuracy_score(y_test, y_pred)\n",
    "error = 1 - accuracy\n",
    "precision = metrics.precision_score(y_test, y_pred, average = None)\n",
    "recall = metrics.recall_score(y_test, y_pred, average = None)\n",
    "F1_score = metrics.f1_score(y_test, y_pred, average = None)\n",
    "\n",
    "print([accuracy, error, precision, recall, F1_score])"
   ]
  },
  {
   "cell_type": "markdown",
   "metadata": {},
   "source": [
    "**Question 05 (of 06): What can you conclude about the performance of the SVM classifier?**\n",
    "\n",
    "**Answer:** From the F1 score values, we can conclude that the performance of the decision tree classifier for class 0 is good but for class 1 is above average."
   ]
  },
  {
   "cell_type": "markdown",
   "metadata": {},
   "source": [
    "**Question 06 (of 06): Which of the classifiers had the best performance?**\n",
    "\n",
    "**Answer:** Based on the F1 score arrays of the classifiers, the decision tree classifier has the best performance."
   ]
  },
  {
   "cell_type": "code",
   "execution_count": null,
   "metadata": {},
   "outputs": [],
   "source": []
  }
 ],
 "metadata": {
  "kernelspec": {
   "display_name": "Python 3",
   "language": "python",
   "name": "python3"
  },
  "language_info": {
   "codemirror_mode": {
    "name": "ipython",
    "version": 3
   },
   "file_extension": ".py",
   "mimetype": "text/x-python",
   "name": "python",
   "nbconvert_exporter": "python",
   "pygments_lexer": "ipython3",
   "version": "3.7.3"
  }
 },
 "nbformat": 4,
 "nbformat_minor": 4
}
